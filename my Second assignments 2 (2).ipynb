{
  "metadata": {
    "language_info": {
      "codemirror_mode": {
        "name": "python",
        "version": 3
      },
      "file_extension": ".py",
      "mimetype": "text/x-python",
      "name": "python",
      "nbconvert_exporter": "python",
      "pygments_lexer": "ipython3",
      "version": "3.8"
    },
    "kernelspec": {
      "name": "python",
      "display_name": "Python (Pyodide)",
      "language": "python"
    }
  },
  "nbformat_minor": 4,
  "nbformat": 4,
  "cells": [
    {
      "cell_type": "markdown",
      "source": " Q1. How do you comment code in Python? What are the different types of comments?",
      "metadata": {}
    },
    {
      "cell_type": "markdown",
      "source": "Ans- we can comment code in python  we have two option  first we can use \"#\" and second is \"'comnt\"'.\nThere are  three type of comment\n1 single line of comments \n2 multi line of comments\n3 docstring line of comments",
      "metadata": {}
    },
    {
      "cell_type": "markdown",
      "source": "Q2. What are variables in Python? How do you declare and assign values to variables?",
      "metadata": {}
    },
    {
      "cell_type": "code",
      "source": "x = 5 \ny=\"john\"\nprint(x, y)",
      "metadata": {
        "trusted": true
      },
      "execution_count": 29,
      "outputs": [
        {
          "name": "stdout",
          "text": "5 john\n",
          "output_type": "stream"
        }
      ]
    },
    {
      "cell_type": "markdown",
      "source": "This is my variables, Variable is a container that store a values.",
      "metadata": {}
    },
    {
      "cell_type": "markdown",
      "source": "we can declare and assign values to variables in multiple ways some example are below.",
      "metadata": {}
    },
    {
      "cell_type": "code",
      "source": "x =5\nx =9\nprint(x)",
      "metadata": {
        "trusted": true
      },
      "execution_count": 30,
      "outputs": [
        {
          "name": "stdout",
          "text": "9\n",
          "output_type": "stream"
        }
      ]
    },
    {
      "cell_type": "markdown",
      "source": "Using -if else:",
      "metadata": {}
    },
    {
      "cell_type": "code",
      "source": "a = 30\nb = 50\nif a > b:\n    z = a - b\nelse:\n    z = a + b\nprint(\"Value of z is:\", z)",
      "metadata": {
        "trusted": true
      },
      "execution_count": 31,
      "outputs": [
        {
          "name": "stdout",
          "text": "Value of z is: 80\n",
          "output_type": "stream"
        }
      ]
    },
    {
      "cell_type": "markdown",
      "source": "Q3:-How do you convert one data type to another in Python?",
      "metadata": {}
    },
    {
      "cell_type": "markdown",
      "source": "Ans:-In Python, we can convert one data type to another using either explicit or implicit conversion. Explicit conversion is when you force Python to convert it to a specific datatype using built-in functions such as int(), float(), str(), etc. Implicit conversion is when Python itself does the work during compilation or runtime .\nSome example are below.",
      "metadata": {}
    },
    {
      "cell_type": "code",
      "source": "x = 5\ny = float(x)\nprint(y)",
      "metadata": {
        "trusted": true
      },
      "execution_count": 32,
      "outputs": [
        {
          "name": "stdout",
          "text": "5.0\n",
          "output_type": "stream"
        }
      ]
    },
    {
      "cell_type": "code",
      "source": "a_int = 1\nb_float = 1.0\nc_sum = a_int + b_float\nprint(c_sum)",
      "metadata": {
        "trusted": true
      },
      "execution_count": 33,
      "outputs": [
        {
          "name": "stdout",
          "text": "2.0\n",
          "output_type": "stream"
        }
      ]
    },
    {
      "cell_type": "markdown",
      "source": "Q3:- How do you convert one data type to another in Python?",
      "metadata": {}
    },
    {
      "cell_type": "markdown",
      "source": "Ans 3:- We have two ways one  data type to convert in python\n1.  Implicit Type Conversion\n2.  Explicit Type Conversion\nexample are below.\n\n",
      "metadata": {}
    },
    {
      "cell_type": "code",
      "source": "x= 3\n\ny=4.5\n\nz =x+y\nprint(z)\n",
      "metadata": {
        "trusted": true
      },
      "execution_count": 34,
      "outputs": [
        {
          "name": "stdout",
          "text": "7.5\n",
          "output_type": "stream"
        }
      ]
    },
    {
      "cell_type": "code",
      "source": "type(z)",
      "metadata": {
        "trusted": true
      },
      "execution_count": 35,
      "outputs": [
        {
          "execution_count": 35,
          "output_type": "execute_result",
          "data": {
            "text/plain": "float"
          },
          "metadata": {}
        }
      ]
    },
    {
      "cell_type": "markdown",
      "source": "Here we are converting int to float.",
      "metadata": {}
    },
    {
      "cell_type": "markdown",
      "source": "Q4. How do you write and execute a Python script from the command line?",
      "metadata": {}
    },
    {
      "cell_type": "markdown",
      "source": "A4. we can write and execute a Python script from the command line\nby following these steps.\n\n1.Verify that our terminal or command prompt can run Python.\n2.Create a Python script that is error-free.",
      "metadata": {}
    },
    {
      "cell_type": "markdown",
      "source": "Q5. Given a list my_list = [1, 2, 3, 4, 5], write the code to slice the list and obtain the sub-list [2, 3].",
      "metadata": {}
    },
    {
      "cell_type": "code",
      "source": "\nMY_list =[1,2,3,4,5]\nprint (MY_list[1:3])",
      "metadata": {
        "trusted": true
      },
      "execution_count": 38,
      "outputs": [
        {
          "name": "stdout",
          "text": "[2, 3]\n",
          "output_type": "stream"
        }
      ]
    },
    {
      "cell_type": "markdown",
      "source": "Q6. What is a complex number in mathematics, and how is it represented in Python?",
      "metadata": {}
    },
    {
      "cell_type": "markdown",
      "source": "A6.Complex numbers are the numbers that are expressed in the form of a+ib where, a,b are real numbers and  ‘i’ is an imaginary number called “iota”. The value of i = (√-1). For example, 2+3i is a complex number, where 2 is a real number (Re) and 3i is an imaginary number (Im). \nSome example are below how can i represented in python.",
      "metadata": {}
    },
    {
      "cell_type": "code",
      "source": "a = 4 +3j\nprint(a)",
      "metadata": {
        "trusted": true
      },
      "execution_count": 40,
      "outputs": [
        {
          "name": "stdout",
          "text": "(4+3j)\n",
          "output_type": "stream"
        }
      ]
    },
    {
      "cell_type": "markdown",
      "source": "Q7. What is the correct way to declare a variable named age and assign the value 25 to it?",
      "metadata": {}
    },
    {
      "cell_type": "markdown",
      "source": "A7.let = 25;\n\nHere, let is used to declare a variable named age and assign the value 25 to it.",
      "metadata": {}
    },
    {
      "cell_type": "markdown",
      "source": "Q8. Declare a variable named price and assign the value 9.99 to it. What data type does this variable\nbelong to?",
      "metadata": {}
    },
    {
      "cell_type": "markdown",
      "source": "\nprice = \"9.99\",\nThe variable “price” is a string data type and The value “9.99” is a string literal.",
      "metadata": {}
    },
    {
      "cell_type": "markdown",
      "source": "Q9. Create a variable named name and assign your full name to it as a string. How would you print the\nvalue of this variable?",
      "metadata": {}
    },
    {
      "cell_type": "code",
      "source": "Name = \"kuldeep kumar\"\n",
      "metadata": {
        "trusted": true
      },
      "execution_count": 8,
      "outputs": []
    },
    {
      "cell_type": "code",
      "source": "print(Name)",
      "metadata": {
        "trusted": true
      },
      "execution_count": 10,
      "outputs": [
        {
          "name": "stdout",
          "text": "kuldeep kumar\n",
          "output_type": "stream"
        }
      ]
    },
    {
      "cell_type": "markdown",
      "source": "Q10. Given the string \"Hello, World!\", extract the substring \"World\".",
      "metadata": {}
    },
    {
      "cell_type": "code",
      "source": "string = \"Hello, World!\"\nsubstring = string[7:12]\nprint(substring)\n",
      "metadata": {
        "trusted": true
      },
      "execution_count": 13,
      "outputs": [
        {
          "name": "stdout",
          "text": "World\n",
          "output_type": "stream"
        }
      ]
    },
    {
      "cell_type": "markdown",
      "source": "Q11. Create a variable named \"is_student\" and assign it a boolean value indicating whether you are\ncurrently a student or not.",
      "metadata": {}
    },
    {
      "cell_type": "code",
      "source": "\"is_student\" == True or False",
      "metadata": {
        "trusted": true
      },
      "execution_count": 18,
      "outputs": [
        {
          "execution_count": 18,
          "output_type": "execute_result",
          "data": {
            "text/plain": "False"
          },
          "metadata": {}
        }
      ]
    },
    {
      "cell_type": "code",
      "source": "",
      "metadata": {},
      "execution_count": null,
      "outputs": []
    }
  ]
}